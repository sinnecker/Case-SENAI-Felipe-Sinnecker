{
 "cells": [
  {
   "cell_type": "code",
   "execution_count": 1,
   "id": "64b8950d",
   "metadata": {},
   "outputs": [],
   "source": [
    "import numpy as np\n",
    "import matplotlib.pyplot as plt"
   ]
  },
  {
   "cell_type": "markdown",
   "id": "6560dad4",
   "metadata": {},
   "source": [
    "# Dados do Problema"
   ]
  },
  {
   "cell_type": "code",
   "execution_count": 2,
   "id": "96ce1a6e",
   "metadata": {},
   "outputs": [],
   "source": [
    "J = 4\n",
    "M = 2\n",
    "\n",
    "TP = [18, 14, 12, 6]\n",
    "TC = [4, 4, 6, 6]\n",
    "st = [2, 4];"
   ]
  },
  {
   "cell_type": "markdown",
   "id": "2bec92d6",
   "metadata": {},
   "source": [
    "# Funções auxiliares"
   ]
  },
  {
   "cell_type": "markdown",
   "id": "d25b81df",
   "metadata": {},
   "source": [
    "Função objetivo, recebe uma solução e calcula o tempo de enfesto. O tempo é calculado somando os tempos médios de cada máquina junto ao tempo de setup multiplicado pelas ordens de cada máquina."
   ]
  },
  {
   "cell_type": "code",
   "execution_count": 3,
   "id": "71b6ab42",
   "metadata": {},
   "outputs": [],
   "source": [
    "def FO(Sol,TP,TC,st):\n",
    "    \"\"\" Recebe uma solução Sol, os tempos de enfesto TP e setup st. \n",
    "        Retorna o tempo que demora para terminar o enfesto das ordens de produção\"\"\"\n",
    "    \n",
    "    #tempos de setup por máquina\n",
    "    s1 = st[0]\n",
    "    s2 = st[1]\n",
    "    \n",
    "    Time_enf = np.zeros(len(TP))\n",
    "    Time_cutt = np.zeros(len(TC))\n",
    "    # tempo de enfesto máquina 1\n",
    "    t1 = 0\n",
    "    for i in Sol[0]:\n",
    "        Time_enf[i] = t1 + TP[i] + s1\n",
    "        t1 += TP[i] + s1\n",
    "    t2 = 0\n",
    "    for i in Sol[1]:\n",
    "        if t2>Time_enf[i]:\n",
    "            Time_cutt[i] = t2 + TC[i] + s2\n",
    "            t2 += TC[i] + s2\n",
    "        else:\n",
    "            Time_cutt[i] = Time_enf[i] + TC[i] + s2\n",
    "            t2 += (Time_enf[i]-t2) + TC[i] + s2\n",
    "    return Sol,max(t1,t2),Time_enf,Time_cutt"
   ]
  },
  {
   "cell_type": "markdown",
   "id": "a01d130f",
   "metadata": {},
   "source": [
    "Função Random_start, gera uma solução aleatória"
   ]
  },
  {
   "cell_type": "code",
   "execution_count": 4,
   "id": "211980e7",
   "metadata": {},
   "outputs": [],
   "source": [
    "def Random_start(J,M):\n",
    "    m1 = np.arange(0,J,1)\n",
    "    m2 = np.arange(0,J,1)\n",
    "\n",
    "    np.random.shuffle(m1)\n",
    "    np.random.shuffle(m2)\n",
    "    \n",
    "    return [m1,m2]"
   ]
  },
  {
   "cell_type": "markdown",
   "id": "d686b2f4",
   "metadata": {},
   "source": [
    "# Operadores"
   ]
  },
  {
   "cell_type": "markdown",
   "id": "25dcd3f4",
   "metadata": {},
   "source": [
    "Operador1 escolhe de forma aleatória uma ordem e troca de lugar aleatóriamente"
   ]
  },
  {
   "cell_type": "code",
   "execution_count": 5,
   "id": "6f03f16f",
   "metadata": {},
   "outputs": [],
   "source": [
    "def operator1(Sol,TP,TC):\n",
    "    backtrack=0\n",
    "    if np.random.uniform()>0.5:\n",
    "        n = len(TP)\n",
    "        v = list(Sol[0])\n",
    "        backtrack = 0\n",
    "    else:\n",
    "        n = len(TC)\n",
    "        v = list(Sol[1])\n",
    "        backtrack = 1\n",
    "    #Escolhe 1 orden para trocar de lugar\n",
    "    Swap = int(n*np.random.uniform())\n",
    "    v.remove(Swap)\n",
    "    #escolhe uma posicao aleatoria nova\n",
    "    pos = np.random.randint(0,len(v)+1)\n",
    "    v = v[:pos]+[Swap]+v[pos:]\n",
    "    newSol = Sol.copy()\n",
    "    newSol[backtrack] = v\n",
    "    return newSol"
   ]
  },
  {
   "cell_type": "markdown",
   "id": "7d6c8ac6",
   "metadata": {},
   "source": [
    "Operador2 escolhe 2 ordens e troca o lugar de uma pela outra"
   ]
  },
  {
   "cell_type": "code",
   "execution_count": 6,
   "id": "d9a58246",
   "metadata": {},
   "outputs": [],
   "source": [
    "def operator2(Sol,TP,TC):\n",
    "    n = len(TP)\n",
    "    backtrack = 0\n",
    "    #Escolhe 2 ordens para trocar de lugar\n",
    "    if np.random.uniform()>0.5:\n",
    "        v = list(Sol[0])\n",
    "        backtrack = 0\n",
    "    else:\n",
    "        v = list(Sol[1])\n",
    "        backtrack = 1\n",
    "    choices = np.arange(0,n,1)\n",
    "    Swap1 = np.random.choice(choices,replace=False)\n",
    "    Swap2 = np.random.choice(choices,replace=False)\n",
    "    O1 = v[Swap1]\n",
    "    O2 = v[Swap2]\n",
    "\n",
    "    v[Swap1] = O2\n",
    "    v[Swap2] = O1\n",
    "    \n",
    "    newSol = Sol.copy()\n",
    "    newSol[backtrack] = v\n",
    "    return newSol"
   ]
  },
  {
   "cell_type": "markdown",
   "id": "de7eedb0",
   "metadata": {},
   "source": [
    "Função random_neigh realiza uma busca local, com probabilidade p1 escolhe uma ordem e realiza uma troca de forma gulosa, com probabilidade 1-p1 aplica os operadores 1 e 2."
   ]
  },
  {
   "cell_type": "code",
   "execution_count": 7,
   "id": "244ca3c0",
   "metadata": {},
   "outputs": [],
   "source": [
    "def random_neigh(Sol,TP,TC,st, FO):\n",
    "    p1 = np.random.uniform()\n",
    "    p2 = np.random.uniform()\n",
    "    n = len(TP)\n",
    "    backtrack = 0\n",
    "    if p1>2/6:\n",
    "            n = len(TP)\n",
    "            #Escolhe 2 ordens para trocar de lugar\n",
    "            if np.random.uniform()>0.5:\n",
    "                v = list(Sol[0])\n",
    "                backtrack = 0\n",
    "            else:\n",
    "                v = list(Sol[1])\n",
    "                backtrack = 1\n",
    "            c1 = int(n*np.random.uniform())\n",
    "            indices = [i for i in range(len(v)) if v[i] != c1]\n",
    "            v.remove(c1)\n",
    "            s2 = v.copy()\n",
    "            best = np.inf\n",
    "            for i in indices:\n",
    "                s2 = v.copy()\n",
    "                s2.insert(i,c1)\n",
    "                c = Sol.copy()\n",
    "                c[backtrack] = s2\n",
    "                _,price,_,_ = FO(c,TP,TC,st)\n",
    "                if best>price:\n",
    "                    best = price\n",
    "                    sol_best = c\n",
    "            v = sol_best\n",
    "    else:\n",
    "        \n",
    "        v = operator1(Sol,TP,TC)\n",
    "        if p2<0.8:\n",
    "            v = operator2(Sol,TP,TC)\n",
    "    return v"
   ]
  },
  {
   "cell_type": "markdown",
   "id": "74bfd253",
   "metadata": {},
   "source": [
    "Simulated annealing"
   ]
  },
  {
   "cell_type": "code",
   "execution_count": 8,
   "id": "340c6464",
   "metadata": {},
   "outputs": [],
   "source": [
    "def sa(TP, TC, st, LS, td, T0, L=10, maxiter=100):\n",
    "    S0 = Random_start(len(TP),len(st))\n",
    "    Best_sol =[]\n",
    "    S_best,F_best,_,_ = FO(S0,TP,TC,st)\n",
    "    S = S0\n",
    "    cF= F_best\n",
    "    Best_sol.append(F_best)\n",
    "    T = T0\n",
    "    niter = 0\n",
    "    for iteration in range(maxiter):\n",
    "        temploop = 0\n",
    "        improv = 0\n",
    "        while temploop<L and improv<np.ceil(L/100):\n",
    "            # Gera um vizinho aleatório\n",
    "            nS = LS(S, TP,TC,st, FO)\n",
    "\n",
    "            # Calcula as funções de custo para o vizinho\n",
    "            _,nF,_,_ = FO(nS,TP,TC,st)\n",
    "            diff = cF-nF\n",
    "\n",
    "            # Verifica se o vizinho é melhor ou se deve ser aceito de acordo com a probabilidade\n",
    "            if nF < cF or (np.exp(-diff/T) > np.random.uniform()):\n",
    "                S = nS\n",
    "\n",
    "            # Verifica se a solução atual é a melhor até o momento\n",
    "            if nF < F_best:\n",
    "                F_best = nF\n",
    "                S_best = nS\n",
    "                Best_sol.append(F_best)\n",
    "                improv += 1\n",
    "            temploop +=1\n",
    "        # Reduz a temperatura\n",
    "        T = td(T0,iteration)\n",
    "\n",
    "        \n",
    "    return S_best,F_best,Best_sol"
   ]
  },
  {
   "cell_type": "markdown",
   "id": "b7305cd8",
   "metadata": {},
   "source": [
    "# Dados de temperatura"
   ]
  },
  {
   "cell_type": "code",
   "execution_count": 9,
   "id": "b0021fa4",
   "metadata": {},
   "outputs": [],
   "source": [
    "TF = 0.001\n",
    "T0 = 5000\n",
    "alpha = 0.99"
   ]
  },
  {
   "cell_type": "markdown",
   "id": "99197f77",
   "metadata": {},
   "source": [
    "Função td, realiza o decaimento de temperatura exponencial"
   ]
  },
  {
   "cell_type": "code",
   "execution_count": 10,
   "id": "9be6f9d9",
   "metadata": {},
   "outputs": [],
   "source": [
    "def td(T0,i):\n",
    "    return T0*alpha**i"
   ]
  },
  {
   "cell_type": "code",
   "execution_count": 11,
   "id": "cac71999",
   "metadata": {
    "scrolled": true
   },
   "outputs": [
    {
     "data": {
      "text/plain": [
       "([[3, 1, 2, 0], array([1, 2, 3, 0])], 66.0, [86.0, 66.0])"
      ]
     },
     "execution_count": 11,
     "metadata": {},
     "output_type": "execute_result"
    }
   ],
   "source": [
    "sa(TP, TC, st, random_neigh, td, T0, L=10, maxiter=100)"
   ]
  }
 ],
 "metadata": {
  "kernelspec": {
   "display_name": "Python 3 (ipykernel)",
   "language": "python",
   "name": "python3"
  },
  "language_info": {
   "codemirror_mode": {
    "name": "ipython",
    "version": 3
   },
   "file_extension": ".py",
   "mimetype": "text/x-python",
   "name": "python",
   "nbconvert_exporter": "python",
   "pygments_lexer": "ipython3",
   "version": "3.9.12"
  }
 },
 "nbformat": 4,
 "nbformat_minor": 5
}
