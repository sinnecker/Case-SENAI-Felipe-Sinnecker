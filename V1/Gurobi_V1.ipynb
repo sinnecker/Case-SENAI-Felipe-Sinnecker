{
 "cells": [
  {
   "cell_type": "code",
   "execution_count": 11,
   "id": "aaa62f39",
   "metadata": {},
   "outputs": [],
   "source": [
    "using JuMP, Gurobi, LinearAlgebra, Random, Statistics, MAT"
   ]
  },
  {
   "cell_type": "code",
   "execution_count": 2,
   "id": "42e3fda4",
   "metadata": {},
   "outputs": [],
   "source": [
    "J = 4\n",
    "M = 2\n",
    "\n",
    "TE = [18, 14, 12, 6]\n",
    "TC = [4, 4, 6, 6]\n",
    "st = [2, 4];"
   ]
  },
  {
   "cell_type": "code",
   "execution_count": 3,
   "id": "b5d2a87c",
   "metadata": {},
   "outputs": [
    {
     "name": "stdout",
     "output_type": "stream",
     "text": [
      "Set parameter WLSAccessID\r\n",
      "Set parameter WLSSecret\r\n",
      "Set parameter LicenseID to value 941647\r\n",
      "Academic license 941647 - for non-commercial use only - registered to si___@cos.ufrj.br\r\n"
     ]
    },
    {
     "data": {
      "text/latex": [
       "$$ time $$"
      ],
      "text/plain": [
       "time"
      ]
     },
     "execution_count": 3,
     "metadata": {},
     "output_type": "execute_result"
    }
   ],
   "source": [
    "v1 = Model(Gurobi.Optimizer)\n",
    "\n",
    "@variable(v1, x[0:J,0:J,1:M], Bin)#variavel de ordem\n",
    "@variable(v1, E[0:J]≥0, Int)#variavel de tempo de enfesto\n",
    "@variable(v1, C[0:J]≥0, Int)#variavel de tempo de enfesto\n",
    "@variable(v1, time>=0)#variavel para funcao objetivo\n",
    "\n",
    "@constraint(v1, E[0]==0)#enfesto 0\n",
    "@constraint(v1 , C[0]==0)#corte 0\n",
    "@constraint(v1 , [i=0:J,m=1:M], x[i,i,m]==0)\n",
    "@constraint(v1, [i=1:J,m=1:M], sum(x[i,j,m] for j in 0:J)==1)\n",
    "@constraint(v1, [j=1:J,m=1:M], sum(x[i,j,m] for i in 0:J)==1)\n",
    "@constraint(v1, [m=1:2], sum(x[0,j,m] for j in 1:J)≤ 1)\n",
    "@constraint(v1, [i=0:J,j=1:J], E[j]≥E[i]+st[1]+TE[j]-(1-x[i,j,1])*10000)\n",
    "@constraint(v1, [i=0:J,j=1:J], C[j]≥C[i]+st[2]+TC[j]-(1-x[i,j,2])*10000)\n",
    "@constraint(v1, [i=1:J], C[i]≥E[i]+st[2]+TC[i])\n",
    "@constraint(v1, [i=1:J], time ≥ C[i]);\n",
    "\n",
    "@objective(v1, Min, time)"
   ]
  },
  {
   "cell_type": "code",
   "execution_count": 4,
   "id": "30ff0244",
   "metadata": {},
   "outputs": [
    {
     "name": "stdout",
     "output_type": "stream",
     "text": [
      "Gurobi Optimizer version 10.0.2 build v10.0.2rc0 (win64)\r\n",
      "\r\n",
      "CPU model: Intel(R) Core(TM) i5-9600K CPU @ 3.70GHz, instruction set [SSE2|AVX|AVX2]\r\n",
      "Thread count: 6 physical cores, 6 logical processors, using up to 6 threads\r\n",
      "\r\n",
      "Academic license 941647 - for non-commercial use only - registered to si___@cos.ufrj.br\r\n",
      "Optimize a model with 78 rows, 61 columns and 220 nonzeros\r\n",
      "Model fingerprint: 0x7ed22278\r\n",
      "Variable types: 1 continuous, 60 integer (50 binary)\r\n",
      "Coefficient statistics:\r\n",
      "  Matrix range     [1e+00, 1e+04]\r\n",
      "  Objective range  [1e+00, 1e+00]\r\n",
      "  Bounds range     [0e+00, 0e+00]\r\n",
      "  RHS range        [1e+00, 1e+04]\r\n",
      "Found heuristic solution: objective 76.0000000\r\n",
      "Presolve removed 24 rows and 20 columns\r\n",
      "Presolve time: 0.00s\r\n",
      "Presolved: 54 rows, 41 columns, 160 nonzeros\r\n",
      "Variable types: 0 continuous, 41 integer (32 binary)\r\n",
      "\r\n",
      "Root relaxation: objective 1.000000e+01, 34 iterations, 0.00 seconds (0.00 work units)\r\n",
      "\r\n",
      "    Nodes    |    Current Node    |     Objective Bounds      |     Work\r\n",
      " Expl Unexpl |  Obj  Depth IntInf | Incumbent    BestBd   Gap | It/Node Time\r\n",
      "\r\n",
      "     0     0   10.00000    0   15   76.00000   10.00000  86.8%     -    0s\r\n",
      "H    0     0                      68.0000000   10.00000  85.3%     -    0s\r\n",
      "H    0     0                      66.0000000   10.00000  84.8%     -    0s\r\n",
      "     0     0   24.00000    0   23   66.00000   24.00000  63.6%     -    0s\r\n",
      "     0     0   28.00000    0   16   66.00000   28.00000  57.6%     -    0s\r\n",
      "     0     0   28.00000    0   16   66.00000   28.00000  57.6%     -    0s\r\n",
      "     0     0   28.00000    0   16   66.00000   28.00000  57.6%     -    0s\r\n",
      "     0     0   42.00000    0   21   66.00000   42.00000  36.4%     -    0s\r\n",
      "     0     0   66.00000    0   29   66.00000   66.00000  0.00%     -    0s\r\n",
      "\r\n",
      "Cutting planes:\r\n",
      "  Learned: 2\r\n",
      "  Gomory: 1\r\n",
      "  Implied bound: 1\r\n",
      "  MIR: 6\r\n",
      "  Mod-K: 1\r\n",
      "  RLT: 9\r\n",
      "  Relax-and-lift: 2\r\n",
      "\r\n",
      "Explored 1 nodes (205 simplex iterations) in 0.01 seconds (0.00 work units)\r\n",
      "Thread count was 6 (of 6 available processors)\r\n",
      "\r\n",
      "Solution count 3: 66 68 76 \r\n",
      "\r\n",
      "Optimal solution found (tolerance 1.00e-04)\r\n",
      "Best objective 6.600000000000e+01, best bound 6.600000000000e+01, gap 0.0000%\r\n",
      "\r\n",
      "User-callback calls 208, time in user-callback 0.00 sec\r\n"
     ]
    }
   ],
   "source": [
    "optimize!(v1)"
   ]
  },
  {
   "cell_type": "code",
   "execution_count": 5,
   "id": "b1d19abe",
   "metadata": {},
   "outputs": [
    {
     "data": {
      "text/plain": [
       "66.0"
      ]
     },
     "execution_count": 5,
     "metadata": {},
     "output_type": "execute_result"
    }
   ],
   "source": [
    "objective_value(v1)"
   ]
  },
  {
   "cell_type": "code",
   "execution_count": 6,
   "id": "87cbdf5f",
   "metadata": {},
   "outputs": [
    {
     "data": {
      "text/plain": [
       "3-dimensional DenseAxisArray{Float64,3,...} with index sets:\n",
       "    Dimension 1, 0:4\n",
       "    Dimension 2, 0:4\n",
       "    Dimension 3, Base.OneTo(2)\n",
       "And data, a 5×5×2 Array{Float64, 3}:\n",
       "[:, :, 1] =\n",
       " 0.0  -0.0  -0.0  -0.0   1.0\n",
       " 0.0   0.0   1.0  -0.0  -0.0\n",
       " 1.0  -0.0   0.0  -0.0  -0.0\n",
       " 0.0   1.0  -0.0   0.0  -0.0\n",
       " 0.0  -0.0  -0.0   1.0   0.0\n",
       "\n",
       "[:, :, 2] =\n",
       " 0.0  -0.0  -0.0   1.0  -0.0\n",
       " 0.0   0.0   1.0  -0.0  -0.0\n",
       " 1.0  -0.0   0.0  -0.0  -0.0\n",
       " 0.0  -0.0  -0.0   0.0   1.0\n",
       " 0.0   1.0  -0.0  -0.0   0.0"
      ]
     },
     "execution_count": 6,
     "metadata": {},
     "output_type": "execute_result"
    }
   ],
   "source": [
    "value_x = zeros((5,5,2))\n",
    "value_x[:,:,:] = value.(v1[:x])[:,:,:]"
   ]
  },
  {
   "cell_type": "code",
   "execution_count": 7,
   "id": "25fe338c",
   "metadata": {},
   "outputs": [
    {
     "data": {
      "text/plain": [
       "1-dimensional DenseAxisArray{Float64,1,...} with index sets:\n",
       "    Dimension 1, 0:4\n",
       "And data, a 5-element Vector{Float64}:\n",
       "  0.0\n",
       " 42.0\n",
       " 58.0\n",
       " 22.0\n",
       "  8.0"
      ]
     },
     "execution_count": 7,
     "metadata": {},
     "output_type": "execute_result"
    }
   ],
   "source": [
    "value_E = zeros(5)\n",
    "value_E[:] = value.(v1[:E])[:]"
   ]
  },
  {
   "cell_type": "code",
   "execution_count": 8,
   "id": "7a88c713",
   "metadata": {},
   "outputs": [
    {
     "data": {
      "text/plain": [
       "1-dimensional DenseAxisArray{Float64,1,...} with index sets:\n",
       "    Dimension 1, 0:4\n",
       "And data, a 5-element Vector{Float64}:\n",
       "  0.0\n",
       " 50.0\n",
       " 66.0\n",
       " 32.0\n",
       " 42.0"
      ]
     },
     "execution_count": 8,
     "metadata": {},
     "output_type": "execute_result"
    }
   ],
   "source": [
    "value_C = zeros(5)\n",
    "value_C[:] = value.(v1[:C])[:]"
   ]
  },
  {
   "cell_type": "code",
   "execution_count": 9,
   "id": "c0f3969b",
   "metadata": {},
   "outputs": [
    {
     "data": {
      "text/plain": [
       "Dict{String, Array{Float64}} with 3 entries:\n",
       "  \"C\" => [0.0, 50.0, 66.0, 32.0, 42.0]\n",
       "  \"x\" => [0.0 -0.0 … -0.0 1.0; 0.0 0.0 … -0.0 -0.0; … ; 0.0 1.0 … 0.0 -0.0; 0.0…\n",
       "  \"E\" => [0.0, 42.0, 58.0, 22.0, 8.0]"
      ]
     },
     "execution_count": 9,
     "metadata": {},
     "output_type": "execute_result"
    }
   ],
   "source": [
    "Dicionario = Dict(\n",
    "\"x\" => value_x,\n",
    "\"C\" => value_C,\n",
    "\"E\" => value_E        \n",
    ")"
   ]
  },
  {
   "cell_type": "code",
   "execution_count": 12,
   "id": "71724004",
   "metadata": {},
   "outputs": [],
   "source": [
    "matwrite(\"v1.mat\", Dicionario)"
   ]
  },
  {
   "cell_type": "code",
   "execution_count": null,
   "id": "4395d03b",
   "metadata": {},
   "outputs": [],
   "source": []
  }
 ],
 "metadata": {
  "kernelspec": {
   "display_name": "Julia 1.8.4",
   "language": "julia",
   "name": "julia-1.8"
  },
  "language_info": {
   "file_extension": ".jl",
   "mimetype": "application/julia",
   "name": "julia",
   "version": "1.8.4"
  }
 },
 "nbformat": 4,
 "nbformat_minor": 5
}
