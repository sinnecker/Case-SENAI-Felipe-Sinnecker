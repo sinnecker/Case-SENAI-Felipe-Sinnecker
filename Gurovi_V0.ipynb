{
 "cells": [
  {
   "cell_type": "code",
   "execution_count": 1,
   "id": "aaa62f39",
   "metadata": {},
   "outputs": [],
   "source": [
    "using JuMP, Gurobi, LinearAlgebra, Random, Statistics, MAT"
   ]
  },
  {
   "cell_type": "code",
   "execution_count": 2,
   "id": "42e3fda4",
   "metadata": {},
   "outputs": [],
   "source": [
    "J = 4\n",
    "M = 2\n",
    "\n",
    "TP = [12, 10, 8, 4]\n",
    "st = [2, 3];\n",
    "\n",
    "theta = 10000;"
   ]
  },
  {
   "cell_type": "code",
   "execution_count": 3,
   "id": "b5d2a87c",
   "metadata": {},
   "outputs": [
    {
     "name": "stdout",
     "output_type": "stream",
     "text": [
      "Set parameter WLSAccessID\r\n",
      "Set parameter WLSSecret\r\n",
      "Set parameter LicenseID to value 941647\r\n",
      "Academic license 941647 - for non-commercial use only - registered to si___@cos.ufrj.br\r\n"
     ]
    },
    {
     "data": {
      "text/latex": [
       "$$ time $$"
      ],
      "text/plain": [
       "time"
      ]
     },
     "execution_count": 3,
     "metadata": {},
     "output_type": "execute_result"
    }
   ],
   "source": [
    "v0 = Model(Gurobi.Optimizer)\n",
    "\n",
    "@variable(v0, x[0:J,0:J,1:M], Bin)#variavel de ordem\n",
    "@variable(v0, y[1:J,1:M], Bin)#variavel que indica qual maquina fez a ordem i\n",
    "@variable(v0, E[0:J]≥0, Int)#variavel de tempo de enfesto\n",
    "@variable(v0, time>=0)#variavel para funcao objetivo\n",
    "\n",
    "@constraint(v0 , E[0]==0)# restricao 1\n",
    "@constraint(v0 , [i=0:J,m=1:M], x[i,i,m]==0)#restricao 2\n",
    "@constraint(v0, [i=1:J], sum(y[i,m] for m in 1:M) == 1)#restricao 3\n",
    "@constraint(v0, [i=1:J,m=1:M], sum(x[i,j,m] for j in 0:J)==y[i,m])#restricao 4\n",
    "@constraint(v0, [j=1:J,m=1:M], sum(x[i,j,m] for i in 0:J)==y[j,m])#restricao 5\n",
    "@constraint(v0, [m=1:2], sum(x[0,j,m] for j in 1:J)≤ 1)#restricao 6\n",
    "@constraint(v0, [i=0:J,j=1:J,m=1:M], E[j]≥E[i]+st[m]+TP[j]-(1-x[i,j,m])*theta)#restricao 7\n",
    "@constraint(v0, [i=1:J], time ≥ E[i])#restricao 8\n",
    "\n",
    "@objective(v0, Min, time)#funcao objetivo;"
   ]
  },
  {
   "cell_type": "code",
   "execution_count": 4,
   "id": "30ff0244",
   "metadata": {},
   "outputs": [
    {
     "name": "stdout",
     "output_type": "stream",
     "text": [
      "Gurobi Optimizer version 10.0.2 build v10.0.2rc0 (win64)\r\n",
      "\r\n",
      "CPU model: Intel(R) Core(TM) i5-9600K CPU @ 3.70GHz, instruction set [SSE2|AVX|AVX2]\r\n",
      "Thread count: 6 physical cores, 6 logical processors, using up to 6 threads\r\n",
      "\r\n",
      "Academic license 941647 - for non-commercial use only - registered to si___@cos.ufrj.br\r\n",
      "Optimize a model with 77 rows, 64 columns and 235 nonzeros\r\n",
      "Model fingerprint: 0x1c1a74e1\r\n",
      "Variable types: 1 continuous, 63 integer (58 binary)\r\n",
      "Coefficient statistics:\r\n",
      "  Matrix range     [1e+00, 1e+04]\r\n",
      "  Objective range  [1e+00, 1e+00]\r\n",
      "  Bounds range     [0e+00, 0e+00]\r\n",
      "  RHS range        [1e+00, 1e+04]\r\n",
      "Found heuristic solution: objective 24.0000000\r\n",
      "Presolve removed 23 rows and 23 columns\r\n",
      "Presolve time: 0.00s\r\n",
      "Presolved: 54 rows, 41 columns, 176 nonzeros\r\n",
      "Variable types: 0 continuous, 41 integer (36 binary)\r\n",
      "\r\n",
      "Root relaxation: objective 0.000000e+00, 35 iterations, 0.00 seconds (0.00 work units)\r\n",
      "\r\n",
      "    Nodes    |    Current Node    |     Objective Bounds      |     Work\r\n",
      " Expl Unexpl |  Obj  Depth IntInf | Incumbent    BestBd   Gap | It/Node Time\r\n",
      "\r\n",
      "     0     0    0.00000    0   11   24.00000    0.00000   100%     -    0s\r\n",
      "     0     0    0.00000    0   11   24.00000    0.00000   100%     -    0s\r\n",
      "     0     0    0.00291    0   23   24.00000    0.00291   100%     -    0s\r\n",
      "     0     0    0.00450    0   24   24.00000    0.00450   100%     -    0s\r\n",
      "H    0     0                      22.0000000    0.00450   100%     -    0s\r\n",
      "     0     0   12.00000    0    9   22.00000   12.00000  45.5%     -    0s\r\n",
      "     0     0   13.00000    0   11   22.00000   13.00000  40.9%     -    0s\r\n",
      "     0     0   13.00000    0   15   22.00000   13.00000  40.9%     -    0s\r\n",
      "     0     0   15.00000    0    9   22.00000   15.00000  31.8%     -    0s\r\n",
      "     0     0   15.00000    0   13   22.00000   15.00000  31.8%     -    0s\r\n",
      "     0     0   15.00000    0   14   22.00000   15.00000  31.8%     -    0s\r\n",
      "\r\n",
      "Cutting planes:\r\n",
      "  Gomory: 2\r\n",
      "  Cover: 2\r\n",
      "  Implied bound: 4\r\n",
      "  MIR: 2\r\n",
      "  Zero half: 1\r\n",
      "  RLT: 2\r\n",
      "  Relax-and-lift: 3\r\n",
      "\r\n",
      "Explored 1 nodes (187 simplex iterations) in 0.01 seconds (0.00 work units)\r\n",
      "Thread count was 6 (of 6 available processors)\r\n",
      "\r\n",
      "Solution count 2: 22 24 \r\n",
      "\r\n",
      "Optimal solution found (tolerance 1.00e-04)\r\n",
      "Best objective 2.200000000000e+01, best bound 2.200000000000e+01, gap 0.0000%\r\n",
      "\r\n",
      "User-callback calls 204, time in user-callback 0.00 sec\r\n"
     ]
    }
   ],
   "source": [
    "optimize!(v0)"
   ]
  },
  {
   "cell_type": "code",
   "execution_count": 5,
   "id": "b1d19abe",
   "metadata": {},
   "outputs": [
    {
     "data": {
      "text/plain": [
       "22.0"
      ]
     },
     "execution_count": 5,
     "metadata": {},
     "output_type": "execute_result"
    }
   ],
   "source": [
    "objective_value(v0)"
   ]
  },
  {
   "cell_type": "code",
   "execution_count": 6,
   "id": "87cbdf5f",
   "metadata": {},
   "outputs": [
    {
     "data": {
      "text/plain": [
       "3-dimensional DenseAxisArray{Float64,3,...} with index sets:\n",
       "    Dimension 1, 0:4\n",
       "    Dimension 2, 0:4\n",
       "    Dimension 3, Base.OneTo(2)\n",
       "And data, a 5×5×2 Array{Float64, 3}:\n",
       "[:, :, 1] =\n",
       " 0.0  0.0  0.0  1.0  0.0\n",
       " 0.0  0.0  0.0  0.0  0.0\n",
       " 1.0  0.0  0.0  0.0  0.0\n",
       " 0.0  0.0  1.0  0.0  0.0\n",
       " 0.0  0.0  0.0  0.0  0.0\n",
       "\n",
       "[:, :, 2] =\n",
       " 0.0  1.0  0.0  0.0  0.0\n",
       " 0.0  0.0  0.0  0.0  1.0\n",
       " 0.0  0.0  0.0  0.0  0.0\n",
       " 0.0  0.0  0.0  0.0  0.0\n",
       " 1.0  0.0  0.0  0.0  0.0"
      ]
     },
     "execution_count": 6,
     "metadata": {},
     "output_type": "execute_result"
    }
   ],
   "source": [
    "value_x = zeros((5,5,2))\n",
    "value_x[:,:,:] = value.(v0[:x])[:,:,:]"
   ]
  },
  {
   "cell_type": "code",
   "execution_count": 7,
   "id": "25fe338c",
   "metadata": {},
   "outputs": [
    {
     "data": {
      "text/plain": [
       "1-dimensional DenseAxisArray{Float64,1,...} with index sets:\n",
       "    Dimension 1, 0:4\n",
       "And data, a 5-element Vector{Float64}:\n",
       "  0.0\n",
       " 15.0\n",
       " 22.0\n",
       " 10.0\n",
       " 22.0"
      ]
     },
     "execution_count": 7,
     "metadata": {},
     "output_type": "execute_result"
    }
   ],
   "source": [
    "value_E = zeros(5)\n",
    "value_E[:] = value.(v0[:E])[:]"
   ]
  },
  {
   "cell_type": "code",
   "execution_count": 8,
   "id": "45b97b89",
   "metadata": {},
   "outputs": [
    {
     "data": {
      "text/plain": [
       "4×2 Matrix{Float64}:\n",
       " 0.0  1.0\n",
       " 1.0  0.0\n",
       " 1.0  0.0\n",
       " 0.0  1.0"
      ]
     },
     "execution_count": 8,
     "metadata": {},
     "output_type": "execute_result"
    }
   ],
   "source": [
    "value_y = zeros((4,2))\n",
    "value_y[:,:] = value.(v0[:y])[:,:]"
   ]
  },
  {
   "cell_type": "code",
   "execution_count": 9,
   "id": "904c26c1",
   "metadata": {},
   "outputs": [
    {
     "data": {
      "text/plain": [
       "Dict{String, Array{Float64}} with 3 entries:\n",
       "  \"x\" => [0.0 0.0 … 1.0 0.0; 0.0 0.0 … 0.0 0.0; … ; 0.0 0.0 … 0.0 0.0; 0.0 0.0 …\n",
       "  \"E\" => [0.0, 15.0, 22.0, 10.0, 22.0]\n",
       "  \"y\" => [0.0 1.0; 1.0 0.0; 1.0 0.0; 0.0 1.0]"
      ]
     },
     "execution_count": 9,
     "metadata": {},
     "output_type": "execute_result"
    }
   ],
   "source": [
    "Dicionario = Dict(\n",
    "\"x\" => value_x,\n",
    "\"y\" => value_y,\n",
    "\"E\" => value_E        \n",
    ")"
   ]
  },
  {
   "cell_type": "code",
   "execution_count": 10,
   "id": "8ec5267a",
   "metadata": {},
   "outputs": [],
   "source": [
    "matwrite(\"v0.mat\", Dicionario)"
   ]
  }
 ],
 "metadata": {
  "kernelspec": {
   "display_name": "Julia 1.8.4",
   "language": "julia",
   "name": "julia-1.8"
  },
  "language_info": {
   "file_extension": ".jl",
   "mimetype": "application/julia",
   "name": "julia",
   "version": "1.8.4"
  }
 },
 "nbformat": 4,
 "nbformat_minor": 5
}
